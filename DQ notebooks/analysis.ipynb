{
 "cells": [
  {
   "cell_type": "markdown",
   "metadata": {},
   "source": [
    "## Fetch data analysis for Users.json"
   ]
  },
  {
   "cell_type": "code",
   "execution_count": null,
   "metadata": {},
   "outputs": [],
   "source": [
    "import great_expectations as gx\n",
    "import pandas as pd\n",
    "import json\n",
    "import os\n",
    "from dotenv import load_dotenv\n",
    "\n",
    "# Load environment variables\n",
    "load_dotenv()"
   ]
  },
  {
   "cell_type": "code",
   "execution_count": 16,
   "metadata": {},
   "outputs": [
    {
     "data": {
      "application/vnd.jupyter.widget-view+json": {
       "model_id": "6af17177826546179b9d5c99300b7205",
       "version_major": 2,
       "version_minor": 0
      },
      "text/plain": [
       "Calculating Metrics:   0%|          | 0/2 [00:00<?, ?it/s]"
      ]
     },
     "metadata": {},
     "output_type": "display_data"
    },
    {
     "name": "stdout",
     "output_type": "stream",
     "text": [
      "Validation Result for expect_column_to_exist: False\n"
     ]
    },
    {
     "data": {
      "application/vnd.jupyter.widget-view+json": {
       "model_id": "205e907fa77e4045a371c4a2107586d3",
       "version_major": 2,
       "version_minor": 0
      },
      "text/plain": [
       "Calculating Metrics:   0%|          | 0/10 [00:00<?, ?it/s]"
      ]
     },
     "metadata": {},
     "output_type": "display_data"
    },
    {
     "name": "stdout",
     "output_type": "stream",
     "text": [
      "Validation Result for expect_column_values_to_be_unique: False\n"
     ]
    },
    {
     "data": {
      "application/vnd.jupyter.widget-view+json": {
       "model_id": "42c89889b55c45b1915d9dfa67057ec4",
       "version_major": 2,
       "version_minor": 0
      },
      "text/plain": [
       "Calculating Metrics:   0%|          | 0/8 [00:00<?, ?it/s]"
      ]
     },
     "metadata": {},
     "output_type": "display_data"
    },
    {
     "name": "stdout",
     "output_type": "stream",
     "text": [
      "Validation Result for expect_column_values_to_not_be_null: True\n"
     ]
    },
    {
     "data": {
      "application/vnd.jupyter.widget-view+json": {
       "model_id": "2a653f1bf3ac41f9bfdeefe3f7fd0002",
       "version_major": 2,
       "version_minor": 0
      },
      "text/plain": [
       "Calculating Metrics:   0%|          | 0/10 [00:00<?, ?it/s]"
      ]
     },
     "metadata": {},
     "output_type": "display_data"
    },
    {
     "name": "stdout",
     "output_type": "stream",
     "text": [
      "Validation Result for expect_column_values_to_match_strftime_format: False\n"
     ]
    },
    {
     "data": {
      "application/vnd.jupyter.widget-view+json": {
       "model_id": "a21c4658cdf24ba5a7dfb1fcf95bee7c",
       "version_major": 2,
       "version_minor": 0
      },
      "text/plain": [
       "Calculating Metrics:   0%|          | 0/2 [00:00<?, ?it/s]"
      ]
     },
     "metadata": {},
     "output_type": "display_data"
    },
    {
     "name": "stdout",
     "output_type": "stream",
     "text": [
      "Validation Result for expect_column_to_exist: True\n"
     ]
    },
    {
     "data": {
      "application/vnd.jupyter.widget-view+json": {
       "model_id": "3e7c8ff7ab5c4720930c2aad13443485",
       "version_major": 2,
       "version_minor": 0
      },
      "text/plain": [
       "Calculating Metrics:   0%|          | 0/10 [00:00<?, ?it/s]"
      ]
     },
     "metadata": {},
     "output_type": "display_data"
    },
    {
     "name": "stdout",
     "output_type": "stream",
     "text": [
      "Validation Result for expect_column_values_to_be_in_set: True\n"
     ]
    },
    {
     "data": {
      "application/vnd.jupyter.widget-view+json": {
       "model_id": "ae7d52a7c2eb453c8473952fa56cd021",
       "version_major": 2,
       "version_minor": 0
      },
      "text/plain": [
       "Calculating Metrics:   0%|          | 0/2 [00:00<?, ?it/s]"
      ]
     },
     "metadata": {},
     "output_type": "display_data"
    },
    {
     "name": "stdout",
     "output_type": "stream",
     "text": [
      "Validation Result for expect_column_to_exist: True\n"
     ]
    },
    {
     "data": {
      "application/vnd.jupyter.widget-view+json": {
       "model_id": "486e848a35fc459d9c90c7cb30f0221e",
       "version_major": 2,
       "version_minor": 0
      },
      "text/plain": [
       "Calculating Metrics:   0%|          | 0/10 [00:00<?, ?it/s]"
      ]
     },
     "metadata": {},
     "output_type": "display_data"
    },
    {
     "name": "stdout",
     "output_type": "stream",
     "text": [
      "Validation Result for expect_column_values_to_be_in_set: True\n"
     ]
    },
    {
     "data": {
      "application/vnd.jupyter.widget-view+json": {
       "model_id": "ef3d7f96b40840c7aa2e2abdb458ff0a",
       "version_major": 2,
       "version_minor": 0
      },
      "text/plain": [
       "Calculating Metrics:   0%|          | 0/1 [00:00<?, ?it/s]"
      ]
     },
     "metadata": {},
     "output_type": "display_data"
    },
    {
     "name": "stdout",
     "output_type": "stream",
     "text": [
      "Validation Result for expect_column_values_to_be_of_type: True\n",
      "Validation results collected: 9\n",
      "Validation results saved to 'validation_results_users.json'\n"
     ]
    }
   ],
   "source": [
    "# Path to your USERS_FILE (JSONL)\n",
    "USERS_FILE = os.environ.get(\"USERS_FILE\")\n",
    "\n",
    "if not USERS_FILE or not os.path.exists(USERS_FILE):\n",
    "    raise FileNotFoundError(f\"USERS_FILE not found: {USERS_FILE}\")\n",
    "\n",
    "# Load the JSONL file into a Pandas DataFrame\n",
    "records = []\n",
    "with open(USERS_FILE, \"r\") as file:\n",
    "    for line_number, line in enumerate(file, start=1):\n",
    "        try:\n",
    "            record = json.loads(line.strip())\n",
    "            records.append(record)\n",
    "        except json.JSONDecodeError as e:\n",
    "            print(f\"Error parsing JSON on line {line_number}: {e}\")\n",
    "\n",
    "if not records:\n",
    "    raise ValueError(\"No valid records found in the JSONL file.\")\n",
    "\n",
    "df = pd.DataFrame(records)\n",
    "\n",
    "# Initialize Great Expectations Context\n",
    "context = gx.get_context()\n",
    "\n",
    "# Add a Pandas datasource\n",
    "data_source = context.data_sources.add_pandas(\"pandas\")\n",
    "\n",
    "# Add a DataFrame asset\n",
    "data_asset = data_source.add_dataframe_asset(name=\"users_asset\")\n",
    "\n",
    "# Add a batch definition for the DataFrame\n",
    "batch_definition = data_asset.add_batch_definition_whole_dataframe(\"users_batch\")\n",
    "batch = batch_definition.get_batch(batch_parameters={\"dataframe\": df})\n",
    "\n",
    "# Define expectations for the users dataset\n",
    "expectations = [\n",
    "    gx.expectations.ExpectColumnToExist(column=\"user_id\"),\n",
    "    gx.expectations.ExpectColumnValuesToBeUnique(column=\"user_id\"),\n",
    "    gx.expectations.ExpectColumnValuesToNotBeNull(column=\"createdDate\"),\n",
    "    gx.expectations.ExpectColumnValuesToMatchStrftimeFormat(\n",
    "        column=\"createdDate\", strftime_format=\"%Y-%m-%dT%H:%M:%S.%fZ\"\n",
    "    ),\n",
    "    gx.expectations.ExpectColumnToExist(column=\"state\"),\n",
    "    gx.expectations.ExpectColumnValuesToBeInSet(\n",
    "        column=\"state\",\n",
    "        value_set=[\n",
    "            \"AL\",\n",
    "            \"AK\",\n",
    "            \"AZ\",\n",
    "            \"AR\",\n",
    "            \"CA\",\n",
    "            \"CO\",\n",
    "            \"CT\",\n",
    "            \"DE\",\n",
    "            \"FL\",\n",
    "            \"GA\",\n",
    "            \"HI\",\n",
    "            \"ID\",\n",
    "            \"IL\",\n",
    "            \"IN\",\n",
    "            \"IA\",\n",
    "            \"KS\",\n",
    "            \"KY\",\n",
    "            \"LA\",\n",
    "            \"ME\",\n",
    "            \"MD\",\n",
    "            \"MA\",\n",
    "            \"MI\",\n",
    "            \"MN\",\n",
    "            \"MS\",\n",
    "            \"MO\",\n",
    "            \"MT\",\n",
    "            \"NE\",\n",
    "            \"NV\",\n",
    "            \"NH\",\n",
    "            \"NJ\",\n",
    "            \"NM\",\n",
    "            \"NY\",\n",
    "            \"NC\",\n",
    "            \"ND\",\n",
    "            \"OH\",\n",
    "            \"OK\",\n",
    "            \"OR\",\n",
    "            \"PA\",\n",
    "            \"RI\",\n",
    "            \"SC\",\n",
    "            \"SD\",\n",
    "            \"TN\",\n",
    "            \"TX\",\n",
    "            \"UT\",\n",
    "            \"VT\",\n",
    "            \"VA\",\n",
    "            \"WA\",\n",
    "            \"WV\",\n",
    "            \"WI\",\n",
    "            \"WY\",\n",
    "        ],\n",
    "    ),\n",
    "    gx.expectations.ExpectColumnToExist(column=\"role\"),\n",
    "    gx.expectations.ExpectColumnValuesToBeInSet(\n",
    "        column=\"role\", value_set=[\"consumer\", \"admin\", \"fetch-staff\"]\n",
    "    ),\n",
    "    gx.expectations.ExpectColumnValuesToBeOfType(column=\"active\", type_=\"bool\"),\n",
    "]\n",
    "\n",
    "# Validate the batch using defined expectations\n",
    "validation_results = []\n",
    "for expectation in expectations:\n",
    "    try:\n",
    "        result = batch.validate(expectation)\n",
    "        validation_results.append(result.to_json_dict())  # Convert to JSON-serializable\n",
    "        print(f\"Validation Result for {expectation.expectation_type}: {result.success}\")\n",
    "    except Exception as e:\n",
    "        print(\n",
    "            f\"Error validating expectation: {expectation['expectation_type']}. Error: {e}\"\n",
    "        )\n",
    "\n",
    "# Debugging: Ensure `validation_results` contains data\n",
    "if not validation_results:\n",
    "    print(\"Validation results are empty. No data was validated.\")\n",
    "else:\n",
    "    print(f\"Validation results collected: {len(validation_results)}\")\n",
    "\n",
    "# Save validation results to a file\n",
    "output_file = \"users_validation_results.json\"\n",
    "try:\n",
    "    with open(output_file, \"w\") as f:\n",
    "        json.dump(validation_results, f, indent=4)\n",
    "        print(f\"Validation results saved to '{output_file}'\")\n",
    "except Exception as e:\n",
    "    print(f\"Error saving validation results to file: {e}\")"
   ]
  },
  {
   "cell_type": "code",
   "execution_count": null,
   "metadata": {},
   "outputs": [],
   "source": [
    "## Validating Brands"
   ]
  },
  {
   "cell_type": "code",
   "execution_count": 19,
   "metadata": {},
   "outputs": [
    {
     "data": {
      "application/vnd.jupyter.widget-view+json": {
       "model_id": "c2336ec05eed4fde804e56e1da06b4bd",
       "version_major": 2,
       "version_minor": 0
      },
      "text/plain": [
       "Calculating Metrics:   0%|          | 0/2 [00:00<?, ?it/s]"
      ]
     },
     "metadata": {},
     "output_type": "display_data"
    },
    {
     "name": "stdout",
     "output_type": "stream",
     "text": [
      "Validation Result for expect_column_to_exist: True\n"
     ]
    },
    {
     "data": {
      "application/vnd.jupyter.widget-view+json": {
       "model_id": "ab5a4b00787c460bb417fd0ab1cd09e9",
       "version_major": 2,
       "version_minor": 0
      },
      "text/plain": [
       "Calculating Metrics:   0%|          | 0/10 [00:00<?, ?it/s]"
      ]
     },
     "metadata": {},
     "output_type": "display_data"
    },
    {
     "name": "stdout",
     "output_type": "stream",
     "text": [
      "Validation Result for expect_column_values_to_be_unique: True\n"
     ]
    },
    {
     "data": {
      "application/vnd.jupyter.widget-view+json": {
       "model_id": "4aba3cb81cf24d51823ce6198d983159",
       "version_major": 2,
       "version_minor": 0
      },
      "text/plain": [
       "Calculating Metrics:   0%|          | 0/2 [00:00<?, ?it/s]"
      ]
     },
     "metadata": {},
     "output_type": "display_data"
    },
    {
     "name": "stdout",
     "output_type": "stream",
     "text": [
      "Validation Result for expect_column_to_exist: True\n"
     ]
    },
    {
     "data": {
      "application/vnd.jupyter.widget-view+json": {
       "model_id": "d4e69a1cc2994fbb95814448860568f6",
       "version_major": 2,
       "version_minor": 0
      },
      "text/plain": [
       "Calculating Metrics:   0%|          | 0/10 [00:00<?, ?it/s]"
      ]
     },
     "metadata": {},
     "output_type": "display_data"
    },
    {
     "name": "stdout",
     "output_type": "stream",
     "text": [
      "Validation Result for expect_column_values_to_be_unique: False\n"
     ]
    },
    {
     "data": {
      "application/vnd.jupyter.widget-view+json": {
       "model_id": "5d091f4b8d7b417fb7396f74c5834120",
       "version_major": 2,
       "version_minor": 0
      },
      "text/plain": [
       "Calculating Metrics:   0%|          | 0/8 [00:00<?, ?it/s]"
      ]
     },
     "metadata": {},
     "output_type": "display_data"
    },
    {
     "name": "stdout",
     "output_type": "stream",
     "text": [
      "Validation Result for expect_column_values_to_not_be_null: True\n"
     ]
    },
    {
     "data": {
      "application/vnd.jupyter.widget-view+json": {
       "model_id": "23d29090b72d427f8f40f170b132ae2b",
       "version_major": 2,
       "version_minor": 0
      },
      "text/plain": [
       "Calculating Metrics:   0%|          | 0/8 [00:00<?, ?it/s]"
      ]
     },
     "metadata": {},
     "output_type": "display_data"
    },
    {
     "name": "stdout",
     "output_type": "stream",
     "text": [
      "Validation Result for expect_column_values_to_not_be_null: False\n"
     ]
    },
    {
     "data": {
      "application/vnd.jupyter.widget-view+json": {
       "model_id": "7749bbd6a8b54aa285afdf37c1ab9fd2",
       "version_major": 2,
       "version_minor": 0
      },
      "text/plain": [
       "Calculating Metrics:   0%|          | 0/8 [00:00<?, ?it/s]"
      ]
     },
     "metadata": {},
     "output_type": "display_data"
    },
    {
     "name": "stdout",
     "output_type": "stream",
     "text": [
      "Validation Result for expect_column_values_to_not_be_null: False\n"
     ]
    },
    {
     "data": {
      "application/vnd.jupyter.widget-view+json": {
       "model_id": "32db41ddbc674c298d7eccb76e5f0fdc",
       "version_major": 2,
       "version_minor": 0
      },
      "text/plain": [
       "Calculating Metrics:   0%|          | 0/2 [00:00<?, ?it/s]"
      ]
     },
     "metadata": {},
     "output_type": "display_data"
    },
    {
     "name": "stdout",
     "output_type": "stream",
     "text": [
      "Validation Result for expect_column_to_exist: True\n"
     ]
    },
    {
     "data": {
      "application/vnd.jupyter.widget-view+json": {
       "model_id": "af20b8ad5f514574ac519d00eff76325",
       "version_major": 2,
       "version_minor": 0
      },
      "text/plain": [
       "Calculating Metrics:   0%|          | 0/10 [00:00<?, ?it/s]"
      ]
     },
     "metadata": {},
     "output_type": "display_data"
    },
    {
     "name": "stdout",
     "output_type": "stream",
     "text": [
      "Validation Result for expect_column_values_to_be_of_type: True\n",
      "Validation results collected: 9\n",
      "Validation results saved to 'brands_validation_results.json'\n"
     ]
    }
   ],
   "source": [
    "# Path to your BRANDS_FILE (JSONL)\n",
    "BRANDS_FILE = os.environ.get(\"BRANDS_FILE\")\n",
    "\n",
    "if not BRANDS_FILE or not os.path.exists(BRANDS_FILE):\n",
    "    raise FileNotFoundError(f\"BRANDS_FILE not found: {BRANDS_FILE}\")\n",
    "\n",
    "# Load the JSONL file into a Pandas DataFrame\n",
    "records = []\n",
    "with open(BRANDS_FILE, \"r\") as file:\n",
    "    for line_number, line in enumerate(file, start=1):\n",
    "        try:\n",
    "            record = json.loads(line.strip())\n",
    "            records.append(record)\n",
    "        except json.JSONDecodeError as e:\n",
    "            print(f\"Error parsing JSON on line {line_number}: {e}\")\n",
    "\n",
    "if not records:\n",
    "    raise ValueError(\"No valid records found in the JSONL file.\")\n",
    "\n",
    "df = pd.DataFrame(records)\n",
    "\n",
    "# Initialize Great Expectations Context\n",
    "context = gx.get_context()\n",
    "\n",
    "# Add a Pandas datasource\n",
    "data_source = context.data_sources.add_pandas(\"pandas\")\n",
    "\n",
    "# Add a DataFrame asset\n",
    "data_asset = data_source.add_dataframe_asset(name=\"brands_asset\")\n",
    "\n",
    "# Add a batch definition for the DataFrame\n",
    "batch_definition = data_asset.add_batch_definition_whole_dataframe(\"brands_batch\")\n",
    "batch = batch_definition.get_batch(batch_parameters={\"dataframe\": df})\n",
    "\n",
    "# Define expectations for the brands dataset\n",
    "expectations = [\n",
    "    gx.expectations.ExpectColumnToExist(column=\"_id\"),\n",
    "    gx.expectations.ExpectColumnValuesToBeUnique(column=\"_id\"),\n",
    "    gx.expectations.ExpectColumnToExist(column=\"barcode\"),\n",
    "    gx.expectations.ExpectColumnValuesToBeUnique(column=\"barcode\"),\n",
    "    gx.expectations.ExpectColumnValuesToNotBeNull(column=\"name\"),\n",
    "    gx.expectations.ExpectColumnValuesToNotBeNull(column=\"category\"),\n",
    "    gx.expectations.ExpectColumnValuesToNotBeNull(column=\"brandCode\"),\n",
    "    gx.expectations.ExpectColumnToExist(column=\"topBrand\"),\n",
    "    gx.expectations.ExpectColumnValuesToBeOfType(column=\"topBrand\", type_=\"bool\"),\n",
    "]\n",
    "\n",
    "# Validate the batch using defined expectations\n",
    "validation_results = []\n",
    "for expectation in expectations:\n",
    "    try:\n",
    "        result = batch.validate(expectation)\n",
    "        validation_results.append(result.to_json_dict())  # Convert to JSON-serializable\n",
    "        print(f\"Validation Result for {expectation.expectation_type}: {result.success}\")\n",
    "    except Exception as e:\n",
    "        print(\n",
    "            f\"Error validating expectation: {expectation.expectation_type}. Error: {e}\"\n",
    "        )\n",
    "\n",
    "# Debugging: Ensure `validation_results` contains data\n",
    "if not validation_results:\n",
    "    print(\"Validation results are empty. No data was validated.\")\n",
    "else:\n",
    "    print(f\"Validation results collected: {len(validation_results)}\")\n",
    "\n",
    "# Save validation results to a file\n",
    "output_file = \"brands_validation_results.json\"\n",
    "try:\n",
    "    with open(output_file, \"w\") as f:\n",
    "        json.dump(validation_results, f, indent=4)\n",
    "        print(f\"Validation results saved to '{output_file}'\")\n",
    "except Exception as e:\n",
    "    print(f\"Error saving validation results to file: {e}\")"
   ]
  },
  {
   "cell_type": "code",
   "execution_count": null,
   "metadata": {},
   "outputs": [],
   "source": [
    "# What are the top 5 brands by receipts scanned for most recent month?"
   ]
  },
  {
   "cell_type": "code",
   "execution_count": null,
   "metadata": {},
   "outputs": [],
   "source": []
  }
 ],
 "metadata": {
  "kernelspec": {
   "display_name": "etl",
   "language": "python",
   "name": "python3"
  },
  "language_info": {
   "codemirror_mode": {
    "name": "ipython",
    "version": 3
   },
   "file_extension": ".py",
   "mimetype": "text/x-python",
   "name": "python",
   "nbconvert_exporter": "python",
   "pygments_lexer": "ipython3",
   "version": "3.9.19"
  }
 },
 "nbformat": 4,
 "nbformat_minor": 2
}
